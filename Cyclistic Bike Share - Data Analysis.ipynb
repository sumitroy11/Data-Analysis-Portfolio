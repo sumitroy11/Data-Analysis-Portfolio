{
 "cells": [
  {
   "cell_type": "markdown",
   "id": "187b2ccf",
   "metadata": {},
   "source": [
    "# Data Analysis : Cyclistic bike-share"
   ]
  },
  {
   "cell_type": "markdown",
   "id": "92f7f030",
   "metadata": {},
   "source": [
    "## Introduction"
   ]
  },
  {
   "cell_type": "markdown",
   "id": "915d4515",
   "metadata": {},
   "source": [
    "The case study involves a bikeshare company's data of its customer's trip details over a 12 month period (July 2020 - June 2021). The data has been made available by Motivate International Inc. under this [license](https://www.divvybikes.com/data-license-agreement).\n",
    "\n"
   ]
  },
  {
   "cell_type": "markdown",
   "id": "85d7df23",
   "metadata": {},
   "source": [
    "## Scenario"
   ]
  },
  {
   "cell_type": "markdown",
   "id": "7dea72a2",
   "metadata": {},
   "source": [
    "Marketing team believes the company's future success depends on maximizing the number of annual memberships and they want to know how casual riders and annual members use platform differently. Depending on these insights, team will create a new marketing strategy to increase annual membership. As an analyst, i have to make recommendations backed up with compelling data insights and professional data visualizations."
   ]
  },
  {
   "cell_type": "markdown",
   "id": "f4894a86",
   "metadata": {},
   "source": [
    "## Objective"
   ]
  },
  {
   "cell_type": "markdown",
   "id": "65f10e4d",
   "metadata": {},
   "source": [
    "The objective of the analysis is to get some insights on how the casual riders and annual memberships uses Cyclistic bikeshare  differently, based on a few parameters available from the existing data."
   ]
  },
  {
   "cell_type": "markdown",
   "id": "eeded810",
   "metadata": {},
   "source": [
    "## Data Sources"
   ]
  },
  {
   "cell_type": "markdown",
   "id": "6f54726a",
   "metadata": {},
   "source": [
    "A total of 12 datasets have been made available for each month starting from July 2020 to June 2021. Each dataset captures the details of every ride logged by the customers of Cyclistic. This data that has been made publicly available has been scrubbed to omit rider's personal information."
   ]
  },
  {
   "cell_type": "markdown",
   "id": "c2924a84",
   "metadata": {},
   "source": [
    "## Documentation, Cleaning and Preparation of data for analysis"
   ]
  },
  {
   "cell_type": "markdown",
   "id": "16416509",
   "metadata": {},
   "source": [
    "The combined size of all the 12 datasets is close to 800 MB. Data cleaning in spreadsheets will be time-consuming and slow compared to SQL or Python. I am choosing Python because of its data oriented packages, the ability to handle large complex data sets and also for the fact that i can do data wrangling, analysis and visualization, all on the same platform.\n"
   ]
  },
  {
   "cell_type": "markdown",
   "id": "089f86c0",
   "metadata": {},
   "source": [
    "### Importing libraries"
   ]
  },
  {
   "cell_type": "code",
   "execution_count": 2,
   "id": "169c830f",
   "metadata": {},
   "outputs": [],
   "source": [
    "import pandas as pd\n",
    "import numpy as np\n",
    "import matplotlib.pyplot as plt\n",
    "import seaborn as sns\n",
    "from pandas.api.types import CategoricalDtype"
   ]
  },
  {
   "cell_type": "markdown",
   "id": "61553b12",
   "metadata": {},
   "source": [
    "### Reading files"
   ]
  },
  {
   "cell_type": "code",
   "execution_count": 3,
   "id": "ca1d4286",
   "metadata": {},
   "outputs": [],
   "source": [
    "jul20 = pd.read_csv(\"Dataset/202007-divvy-tripdata.csv\")\n",
    "aug20 = pd.read_csv(\"Dataset/202008-divvy-tripdata.csv\")\n",
    "sep20 = pd.read_csv(\"Dataset/202009-divvy-tripdata.csv\")\n",
    "oct20 = pd.read_csv(\"Dataset/202010-divvy-tripdata.csv\")\n",
    "nov20 = pd.read_csv (\"Dataset/202011-divvy-tripdata.csv\")\n",
    "dec20 = pd.read_csv(\"Dataset/202012-divvy-tripdata.csv\")\n",
    "jan21 = pd.read_csv(\"Dataset/202101-divvy-tripdata.csv\")\n",
    "feb21 = pd.read_csv(\"Dataset/202102-divvy-tripdata.csv\")\n",
    "mar21 = pd.read_csv(\"Dataset/202103-divvy-tripdata.csv\")\n",
    "apr21 = pd.read_csv(\"Dataset/202104-divvy-tripdata.csv\")\n",
    "may21 = pd.read_csv(\"Dataset/202105-divvy-tripdata.csv\")\n",
    "jun21 = pd.read_csv(\"Dataset/202106-divvy-tripdata.csv\")"
   ]
  },
  {
   "cell_type": "markdown",
   "id": "5e3824de",
   "metadata": {},
   "source": [
    "### Taking a look at the datasets"
   ]
  },
  {
   "cell_type": "code",
   "execution_count": 4,
   "id": "6f83f750",
   "metadata": {
    "scrolled": true
   },
   "outputs": [
    {
     "name": "stdout",
     "output_type": "stream",
     "text": [
      "<class 'pandas.core.frame.DataFrame'>\n",
      "RangeIndex: 551480 entries, 0 to 551479\n",
      "Data columns (total 13 columns):\n",
      " #   Column              Non-Null Count   Dtype  \n",
      "---  ------              --------------   -----  \n",
      " 0   ride_id             551480 non-null  object \n",
      " 1   rideable_type       551480 non-null  object \n",
      " 2   started_at          551480 non-null  object \n",
      " 3   ended_at            551480 non-null  object \n",
      " 4   start_station_name  551331 non-null  object \n",
      " 5   start_station_id    551328 non-null  float64\n",
      " 6   end_station_name    550513 non-null  object \n",
      " 7   end_station_id      550511 non-null  float64\n",
      " 8   start_lat           551480 non-null  float64\n",
      " 9   start_lng           551480 non-null  float64\n",
      " 10  end_lat             550710 non-null  float64\n",
      " 11  end_lng             550710 non-null  float64\n",
      " 12  member_casual       551480 non-null  object \n",
      "dtypes: float64(6), object(7)\n",
      "memory usage: 54.7+ MB\n",
      "<class 'pandas.core.frame.DataFrame'>\n",
      "RangeIndex: 622361 entries, 0 to 622360\n",
      "Data columns (total 13 columns):\n",
      " #   Column              Non-Null Count   Dtype  \n",
      "---  ------              --------------   -----  \n",
      " 0   ride_id             622361 non-null  object \n",
      " 1   rideable_type       622361 non-null  object \n",
      " 2   started_at          622361 non-null  object \n",
      " 3   ended_at            622361 non-null  object \n",
      " 4   start_station_name  614766 non-null  object \n",
      " 5   start_station_id    614670 non-null  float64\n",
      " 6   end_station_name    612326 non-null  object \n",
      " 7   end_station_id      612251 non-null  float64\n",
      " 8   start_lat           622361 non-null  float64\n",
      " 9   start_lng           622361 non-null  float64\n",
      " 10  end_lat             621423 non-null  float64\n",
      " 11  end_lng             621423 non-null  float64\n",
      " 12  member_casual       622361 non-null  object \n",
      "dtypes: float64(6), object(7)\n",
      "memory usage: 61.7+ MB\n",
      "<class 'pandas.core.frame.DataFrame'>\n",
      "RangeIndex: 532958 entries, 0 to 532957\n",
      "Data columns (total 13 columns):\n",
      " #   Column              Non-Null Count   Dtype  \n",
      "---  ------              --------------   -----  \n",
      " 0   ride_id             532958 non-null  object \n",
      " 1   rideable_type       532958 non-null  object \n",
      " 2   started_at          532958 non-null  object \n",
      " 3   ended_at            532958 non-null  object \n",
      " 4   start_station_name  513267 non-null  object \n",
      " 5   start_station_id    513057 non-null  float64\n",
      " 6   end_station_name    509585 non-null  object \n",
      " 7   end_station_id      509434 non-null  float64\n",
      " 8   start_lat           532958 non-null  float64\n",
      " 9   start_lng           532958 non-null  float64\n",
      " 10  end_lat             532169 non-null  float64\n",
      " 11  end_lng             532169 non-null  float64\n",
      " 12  member_casual       532958 non-null  object \n",
      "dtypes: float64(6), object(7)\n",
      "memory usage: 52.9+ MB\n",
      "<class 'pandas.core.frame.DataFrame'>\n",
      "RangeIndex: 388653 entries, 0 to 388652\n",
      "Data columns (total 13 columns):\n",
      " #   Column              Non-Null Count   Dtype  \n",
      "---  ------              --------------   -----  \n",
      " 0   ride_id             388653 non-null  object \n",
      " 1   rideable_type       388653 non-null  object \n",
      " 2   started_at          388653 non-null  object \n",
      " 3   ended_at            388653 non-null  object \n",
      " 4   start_station_name  357455 non-null  object \n",
      " 5   start_station_id    357248 non-null  float64\n",
      " 6   end_station_name    353022 non-null  object \n",
      " 7   end_station_id      352866 non-null  float64\n",
      " 8   start_lat           388653 non-null  float64\n",
      " 9   start_lng           388653 non-null  float64\n",
      " 10  end_lat             388179 non-null  float64\n",
      " 11  end_lng             388179 non-null  float64\n",
      " 12  member_casual       388653 non-null  object \n",
      "dtypes: float64(6), object(7)\n",
      "memory usage: 38.5+ MB\n",
      "<class 'pandas.core.frame.DataFrame'>\n",
      "RangeIndex: 259716 entries, 0 to 259715\n",
      "Data columns (total 13 columns):\n",
      " #   Column              Non-Null Count   Dtype  \n",
      "---  ------              --------------   -----  \n",
      " 0   ride_id             259716 non-null  object \n",
      " 1   rideable_type       259716 non-null  object \n",
      " 2   started_at          259716 non-null  object \n",
      " 3   ended_at            259716 non-null  object \n",
      " 4   start_station_name  235392 non-null  object \n",
      " 5   start_station_id    235282 non-null  float64\n",
      " 6   end_station_name    232967 non-null  object \n",
      " 7   end_station_id      232890 non-null  float64\n",
      " 8   start_lat           259716 non-null  float64\n",
      " 9   start_lng           259716 non-null  float64\n",
      " 10  end_lat             259432 non-null  float64\n",
      " 11  end_lng             259432 non-null  float64\n",
      " 12  member_casual       259716 non-null  object \n",
      "dtypes: float64(6), object(7)\n",
      "memory usage: 25.8+ MB\n",
      "<class 'pandas.core.frame.DataFrame'>\n",
      "RangeIndex: 131573 entries, 0 to 131572\n",
      "Data columns (total 13 columns):\n",
      " #   Column              Non-Null Count   Dtype  \n",
      "---  ------              --------------   -----  \n",
      " 0   ride_id             131573 non-null  object \n",
      " 1   rideable_type       131573 non-null  object \n",
      " 2   started_at          131573 non-null  object \n",
      " 3   ended_at            131573 non-null  object \n",
      " 4   start_station_name  119874 non-null  object \n",
      " 5   start_station_id    119874 non-null  object \n",
      " 6   end_station_name    118336 non-null  object \n",
      " 7   end_station_id      118336 non-null  object \n",
      " 8   start_lat           131573 non-null  float64\n",
      " 9   start_lng           131573 non-null  float64\n",
      " 10  end_lat             131462 non-null  float64\n",
      " 11  end_lng             131462 non-null  float64\n",
      " 12  member_casual       131573 non-null  object \n",
      "dtypes: float64(4), object(9)\n",
      "memory usage: 13.0+ MB\n",
      "<class 'pandas.core.frame.DataFrame'>\n",
      "RangeIndex: 96834 entries, 0 to 96833\n",
      "Data columns (total 13 columns):\n",
      " #   Column              Non-Null Count  Dtype  \n",
      "---  ------              --------------  -----  \n",
      " 0   ride_id             96834 non-null  object \n",
      " 1   rideable_type       96834 non-null  object \n",
      " 2   started_at          96834 non-null  object \n",
      " 3   ended_at            96834 non-null  object \n",
      " 4   start_station_name  88209 non-null  object \n",
      " 5   start_station_id    88209 non-null  object \n",
      " 6   end_station_name    86557 non-null  object \n",
      " 7   end_station_id      86557 non-null  object \n",
      " 8   start_lat           96834 non-null  float64\n",
      " 9   start_lng           96834 non-null  float64\n",
      " 10  end_lat             96731 non-null  float64\n",
      " 11  end_lng             96731 non-null  float64\n",
      " 12  member_casual       96834 non-null  object \n",
      "dtypes: float64(4), object(9)\n",
      "memory usage: 9.6+ MB\n",
      "<class 'pandas.core.frame.DataFrame'>\n",
      "RangeIndex: 49622 entries, 0 to 49621\n",
      "Data columns (total 13 columns):\n",
      " #   Column              Non-Null Count  Dtype  \n",
      "---  ------              --------------  -----  \n",
      " 0   ride_id             49622 non-null  object \n",
      " 1   rideable_type       49622 non-null  object \n",
      " 2   started_at          49622 non-null  object \n",
      " 3   ended_at            49622 non-null  object \n",
      " 4   start_station_name  45576 non-null  object \n",
      " 5   start_station_id    45576 non-null  object \n",
      " 6   end_station_name    44264 non-null  object \n",
      " 7   end_station_id      44264 non-null  object \n",
      " 8   start_lat           49622 non-null  float64\n",
      " 9   start_lng           49622 non-null  float64\n",
      " 10  end_lat             49408 non-null  float64\n",
      " 11  end_lng             49408 non-null  float64\n",
      " 12  member_casual       49622 non-null  object \n",
      "dtypes: float64(4), object(9)\n",
      "memory usage: 4.9+ MB\n",
      "<class 'pandas.core.frame.DataFrame'>\n",
      "RangeIndex: 228496 entries, 0 to 228495\n",
      "Data columns (total 13 columns):\n",
      " #   Column              Non-Null Count   Dtype  \n",
      "---  ------              --------------   -----  \n",
      " 0   ride_id             228496 non-null  object \n",
      " 1   rideable_type       228496 non-null  object \n",
      " 2   started_at          228496 non-null  object \n",
      " 3   ended_at            228496 non-null  object \n",
      " 4   start_station_name  213648 non-null  object \n",
      " 5   start_station_id    213648 non-null  object \n",
      " 6   end_station_name    211769 non-null  object \n",
      " 7   end_station_id      211769 non-null  object \n",
      " 8   start_lat           228496 non-null  float64\n",
      " 9   start_lng           228496 non-null  float64\n",
      " 10  end_lat             228329 non-null  float64\n",
      " 11  end_lng             228329 non-null  float64\n",
      " 12  member_casual       228496 non-null  object \n",
      "dtypes: float64(4), object(9)\n",
      "memory usage: 22.7+ MB\n",
      "<class 'pandas.core.frame.DataFrame'>\n",
      "RangeIndex: 337230 entries, 0 to 337229\n",
      "Data columns (total 13 columns):\n",
      " #   Column              Non-Null Count   Dtype  \n",
      "---  ------              --------------   -----  \n",
      " 0   ride_id             337230 non-null  object \n",
      " 1   rideable_type       337230 non-null  object \n",
      " 2   started_at          337230 non-null  object \n",
      " 3   ended_at            337230 non-null  object \n",
      " 4   start_station_name  311174 non-null  object \n",
      " 5   start_station_id    311174 non-null  object \n",
      " 6   end_station_name    309056 non-null  object \n",
      " 7   end_station_id      309056 non-null  object \n",
      " 8   start_lat           337230 non-null  float64\n",
      " 9   start_lng           337230 non-null  float64\n",
      " 10  end_lat             336963 non-null  float64\n",
      " 11  end_lng             336963 non-null  float64\n",
      " 12  member_casual       337230 non-null  object \n",
      "dtypes: float64(4), object(9)\n",
      "memory usage: 33.4+ MB\n"
     ]
    },
    {
     "name": "stdout",
     "output_type": "stream",
     "text": [
      "<class 'pandas.core.frame.DataFrame'>\n",
      "RangeIndex: 531633 entries, 0 to 531632\n",
      "Data columns (total 13 columns):\n",
      " #   Column              Non-Null Count   Dtype  \n",
      "---  ------              --------------   -----  \n",
      " 0   ride_id             531633 non-null  object \n",
      " 1   rideable_type       531633 non-null  object \n",
      " 2   started_at          531633 non-null  object \n",
      " 3   ended_at            531633 non-null  object \n",
      " 4   start_station_name  477889 non-null  object \n",
      " 5   start_station_id    477889 non-null  object \n",
      " 6   end_station_name    473439 non-null  object \n",
      " 7   end_station_id      473439 non-null  object \n",
      " 8   start_lat           531633 non-null  float64\n",
      " 9   start_lng           531633 non-null  float64\n",
      " 10  end_lat             531181 non-null  float64\n",
      " 11  end_lng             531181 non-null  float64\n",
      " 12  member_casual       531633 non-null  object \n",
      "dtypes: float64(4), object(9)\n",
      "memory usage: 52.7+ MB\n",
      "<class 'pandas.core.frame.DataFrame'>\n",
      "RangeIndex: 729595 entries, 0 to 729594\n",
      "Data columns (total 13 columns):\n",
      " #   Column              Non-Null Count   Dtype  \n",
      "---  ------              --------------   -----  \n",
      " 0   ride_id             729595 non-null  object \n",
      " 1   rideable_type       729595 non-null  object \n",
      " 2   started_at          729595 non-null  object \n",
      " 3   ended_at            729595 non-null  object \n",
      " 4   start_station_name  649502 non-null  object \n",
      " 5   start_station_id    649502 non-null  object \n",
      " 6   end_station_name    643208 non-null  object \n",
      " 7   end_station_id      643208 non-null  object \n",
      " 8   start_lat           729595 non-null  float64\n",
      " 9   start_lng           729595 non-null  float64\n",
      " 10  end_lat             728878 non-null  float64\n",
      " 11  end_lng             728878 non-null  float64\n",
      " 12  member_casual       729595 non-null  object \n",
      "dtypes: float64(4), object(9)\n",
      "memory usage: 72.4+ MB\n"
     ]
    }
   ],
   "source": [
    "jul20.info()\n",
    "aug20.info()\n",
    "sep20.info()\n",
    "oct20.info()\n",
    "nov20.info()\n",
    "dec20.info()\n",
    "jan21.info()\n",
    "feb21.info()\n",
    "mar21.info()\n",
    "apr21.info()\n",
    "may21.info()\n",
    "jun21.info()"
   ]
  },
  {
   "cell_type": "markdown",
   "id": "5ee6ef04",
   "metadata": {},
   "source": [
    "### 2020 station ids are numeric and 2021 station ids are Alphanumeric, thus converting datatypes to have data consistency"
   ]
  },
  {
   "cell_type": "markdown",
   "id": "62798e8f",
   "metadata": {},
   "source": [
    "As we can see the column names are consistent across all data sets and we do not require to rename any column. However, columns start_station_id & end_station_id from dec_20 to Jun_21 have inconsistent data. They need to be converted to have data consistnecy. We will be using astype() function for this.\n",
    "\n"
   ]
  },
  {
   "cell_type": "code",
   "execution_count": 5,
   "id": "fe3dff6e",
   "metadata": {},
   "outputs": [],
   "source": [
    "jul20 = jul20.astype({\"start_station_id\" : 'str' , \"end_station_id\" : 'str' })\n",
    "aug20 = aug20.astype({\"start_station_id\" : 'str' , \"end_station_id\" : 'str' })\n",
    "sep20 = sep20.astype({\"start_station_id\" : 'str' , \"end_station_id\" : 'str' })\n",
    "oct20 = oct20.astype({\"start_station_id\" : 'str' , \"end_station_id\" : 'str' })\n",
    "nov20 = nov20.astype({\"start_station_id\" : 'str' , \"end_station_id\" : 'str' })\n",
    "dec20 = dec20.astype({\"start_station_id\" : 'str' , \"end_station_id\" : 'str' })\n",
    "jan21 = jan21.astype({\"start_station_id\" : 'str' , \"end_station_id\" : 'str' })\n",
    "feb21 = feb21.astype({\"start_station_id\" : 'str' , \"end_station_id\" : 'str' })\n",
    "mar21 = mar21.astype({\"start_station_id\" : 'str' , \"end_station_id\" : 'str' })\n",
    "apr21 = apr21.astype({\"start_station_id\" : 'str' , \"end_station_id\" : 'str' })\n",
    "may21 = may21.astype({\"start_station_id\" : 'str' , \"end_station_id\" : 'str' })\n",
    "jun21 = jun21.astype({\"start_station_id\" : 'str' , \"end_station_id\" : 'str' })"
   ]
  },
  {
   "cell_type": "markdown",
   "id": "d06799ef",
   "metadata": {},
   "source": [
    "### Combining the 12 months data into 1 dataframe"
   ]
  },
  {
   "cell_type": "markdown",
   "id": "57158d7c",
   "metadata": {},
   "source": [
    "We will use concat() function to perform this "
   ]
  },
  {
   "cell_type": "code",
   "execution_count": 6,
   "id": "4b98eac2",
   "metadata": {},
   "outputs": [],
   "source": [
    "concat_df = pd.concat([jul20,aug20,sep20,oct20,nov20,dec20,jan21,feb21,mar21,apr21,may21,jun21] , ignore_index=True)"
   ]
  },
  {
   "cell_type": "markdown",
   "id": "c5821f9b",
   "metadata": {},
   "source": [
    "### Information and structure of the new combined data frame\n"
   ]
  },
  {
   "cell_type": "code",
   "execution_count": 7,
   "id": "41cd332a",
   "metadata": {},
   "outputs": [
    {
     "name": "stdout",
     "output_type": "stream",
     "text": [
      "<class 'pandas.core.frame.DataFrame'>\n",
      "RangeIndex: 4460151 entries, 0 to 4460150\n",
      "Data columns (total 13 columns):\n",
      " #   Column              Dtype  \n",
      "---  ------              -----  \n",
      " 0   ride_id             object \n",
      " 1   rideable_type       object \n",
      " 2   started_at          object \n",
      " 3   ended_at            object \n",
      " 4   start_station_name  object \n",
      " 5   start_station_id    object \n",
      " 6   end_station_name    object \n",
      " 7   end_station_id      object \n",
      " 8   start_lat           float64\n",
      " 9   start_lng           float64\n",
      " 10  end_lat             float64\n",
      " 11  end_lng             float64\n",
      " 12  member_casual       object \n",
      "dtypes: float64(4), object(9)\n",
      "memory usage: 442.4+ MB\n"
     ]
    }
   ],
   "source": [
    "concat_df.info()"
   ]
  },
  {
   "cell_type": "code",
   "execution_count": 8,
   "id": "56ea629d",
   "metadata": {},
   "outputs": [
    {
     "data": {
      "text/plain": [
       "(4460151, 13)"
      ]
     },
     "execution_count": 8,
     "metadata": {},
     "output_type": "execute_result"
    }
   ],
   "source": [
    "concat_df.shape"
   ]
  },
  {
   "cell_type": "markdown",
   "id": "2995fe3b",
   "metadata": {},
   "source": [
    "### Dropping latitudes and longitudes column"
   ]
  },
  {
   "cell_type": "markdown",
   "id": "e9f1115a",
   "metadata": {},
   "source": [
    "Dropping the \"start_lat\", \"start_lng\", \"end_lat\", \"end_lng\" columns as we don't require those for our analysis"
   ]
  },
  {
   "cell_type": "code",
   "execution_count": 9,
   "id": "6ba37cda",
   "metadata": {},
   "outputs": [
    {
     "data": {
      "text/plain": [
       "(4460151, 9)"
      ]
     },
     "execution_count": 9,
     "metadata": {},
     "output_type": "execute_result"
    }
   ],
   "source": [
    "new_df = concat_df.drop([\"start_lat\", \"start_lng\", \"end_lat\", \"end_lng\"], axis=1)\n",
    "new_df.shape"
   ]
  },
  {
   "cell_type": "markdown",
   "id": "35d0d1e0",
   "metadata": {},
   "source": [
    "### Checking the number of null values"
   ]
  },
  {
   "cell_type": "code",
   "execution_count": 10,
   "id": "56cd645e",
   "metadata": {},
   "outputs": [
    {
     "data": {
      "text/plain": [
       "ride_id                    0\n",
       "rideable_type              0\n",
       "started_at                 0\n",
       "ended_at                   0\n",
       "start_station_name    282068\n",
       "start_station_id           0\n",
       "end_station_name      315109\n",
       "end_station_id             0\n",
       "member_casual              0\n",
       "dtype: int64"
      ]
     },
     "execution_count": 10,
     "metadata": {},
     "output_type": "execute_result"
    }
   ],
   "source": [
    "new_df.isnull().sum()"
   ]
  },
  {
   "cell_type": "markdown",
   "id": "d2aa1915",
   "metadata": {},
   "source": [
    "### Dropping Null Values"
   ]
  },
  {
   "cell_type": "code",
   "execution_count": 11,
   "id": "e7f93624",
   "metadata": {},
   "outputs": [],
   "source": [
    "data = new_df.dropna(axis=0)"
   ]
  },
  {
   "cell_type": "code",
   "execution_count": 12,
   "id": "ebe9f731",
   "metadata": {},
   "outputs": [
    {
     "name": "stdout",
     "output_type": "stream",
     "text": [
      "<class 'pandas.core.frame.DataFrame'>\n",
      "Int64Index: 4026375 entries, 0 to 4460148\n",
      "Data columns (total 9 columns):\n",
      " #   Column              Dtype \n",
      "---  ------              ----- \n",
      " 0   ride_id             object\n",
      " 1   rideable_type       object\n",
      " 2   started_at          object\n",
      " 3   ended_at            object\n",
      " 4   start_station_name  object\n",
      " 5   start_station_id    object\n",
      " 6   end_station_name    object\n",
      " 7   end_station_id      object\n",
      " 8   member_casual       object\n",
      "dtypes: object(9)\n",
      "memory usage: 307.2+ MB\n"
     ]
    }
   ],
   "source": [
    "data.info()"
   ]
  },
  {
   "cell_type": "code",
   "execution_count": 13,
   "id": "108c9e66",
   "metadata": {},
   "outputs": [
    {
     "data": {
      "text/plain": [
       "(4026375, 9)"
      ]
     },
     "execution_count": 13,
     "metadata": {},
     "output_type": "execute_result"
    }
   ],
   "source": [
    "data.shape"
   ]
  },
  {
   "cell_type": "markdown",
   "id": "6e41768e",
   "metadata": {},
   "source": [
    "### Renaming columns for better understanding"
   ]
  },
  {
   "cell_type": "code",
   "execution_count": 14,
   "id": "691a79b6",
   "metadata": {},
   "outputs": [],
   "source": [
    "pd.options.mode.chained_assignment = None\n",
    "data.rename(columns = {\"rideable_type\" : \"bike type\", \"started_at\" : \"start_time\", \"ended_at\" : \"end_time\", \"member_casual\": \"rider_type\"}, inplace=True)\n"
   ]
  },
  {
   "cell_type": "markdown",
   "id": "a4081176",
   "metadata": {},
   "source": [
    "### Convert start time and end time columns into Datetime datatype\n"
   ]
  },
  {
   "cell_type": "code",
   "execution_count": 15,
   "id": "969219b0",
   "metadata": {},
   "outputs": [
    {
     "name": "stdout",
     "output_type": "stream",
     "text": [
      "<class 'pandas.core.frame.DataFrame'>\n",
      "Int64Index: 4026375 entries, 0 to 4460148\n",
      "Data columns (total 9 columns):\n",
      " #   Column              Dtype         \n",
      "---  ------              -----         \n",
      " 0   ride_id             object        \n",
      " 1   bike type           object        \n",
      " 2   start_time          datetime64[ns]\n",
      " 3   end_time            datetime64[ns]\n",
      " 4   start_station_name  object        \n",
      " 5   start_station_id    object        \n",
      " 6   end_station_name    object        \n",
      " 7   end_station_id      object        \n",
      " 8   rider_type          object        \n",
      "dtypes: datetime64[ns](2), object(7)\n",
      "memory usage: 307.2+ MB\n"
     ]
    }
   ],
   "source": [
    "data = data.astype({\"start_time\":'datetime64[ns]', \"end_time\": 'datetime64[ns]'})\n",
    "data.info()"
   ]
  },
  {
   "cell_type": "markdown",
   "id": "e3a2d98b",
   "metadata": {},
   "source": [
    "### Adding new columns for trip duration(mins) and day of the week\n"
   ]
  },
  {
   "cell_type": "code",
   "execution_count": 16,
   "id": "1bd1cfd1",
   "metadata": {},
   "outputs": [],
   "source": [
    "data[\"trip_duration\"] = data[\"end_time\"] - data[\"start_time\"]\n",
    "data[\"trip_duration\"] = data[\"trip_duration\"]/np.timedelta64(1, 'm')\n",
    "data[\"day_of_week\"] = data[\"start_time\"].dt.day_name()"
   ]
  },
  {
   "cell_type": "markdown",
   "id": "265c248a",
   "metadata": {},
   "source": [
    "### Checking if any trip duration has 0 or negative values\n"
   ]
  },
  {
   "cell_type": "code",
   "execution_count": 17,
   "id": "a973ebfd",
   "metadata": {},
   "outputs": [
    {
     "data": {
      "text/plain": [
       "13917"
      ]
     },
     "execution_count": 17,
     "metadata": {},
     "output_type": "execute_result"
    }
   ],
   "source": [
    "null_trip_duration = data[data[\"trip_duration\"] <= 0]\n",
    "len(null_trip_duration.index)"
   ]
  },
  {
   "cell_type": "markdown",
   "id": "3ad042bd",
   "metadata": {},
   "source": [
    "### Remove trip rows with 0 or negative trip duration\n"
   ]
  },
  {
   "cell_type": "code",
   "execution_count": 18,
   "id": "310b2981",
   "metadata": {},
   "outputs": [],
   "source": [
    "data.drop(data[data[\"trip_duration\"] <= 0].index , inplace= True)\n",
    "cleaned_data = data"
   ]
  },
  {
   "cell_type": "code",
   "execution_count": 19,
   "id": "2af2a1fd",
   "metadata": {
    "scrolled": true
   },
   "outputs": [
    {
     "name": "stdout",
     "output_type": "stream",
     "text": [
      "<class 'pandas.core.frame.DataFrame'>\n",
      "Int64Index: 4012458 entries, 0 to 4460148\n",
      "Data columns (total 11 columns):\n",
      " #   Column              Dtype         \n",
      "---  ------              -----         \n",
      " 0   ride_id             object        \n",
      " 1   bike type           object        \n",
      " 2   start_time          datetime64[ns]\n",
      " 3   end_time            datetime64[ns]\n",
      " 4   start_station_name  object        \n",
      " 5   start_station_id    object        \n",
      " 6   end_station_name    object        \n",
      " 7   end_station_id      object        \n",
      " 8   rider_type          object        \n",
      " 9   trip_duration       float64       \n",
      " 10  day_of_week         object        \n",
      "dtypes: datetime64[ns](2), float64(1), object(8)\n",
      "memory usage: 367.4+ MB\n"
     ]
    }
   ],
   "source": [
    "cleaned_data.info()"
   ]
  },
  {
   "cell_type": "markdown",
   "id": "177e485f",
   "metadata": {},
   "source": [
    "### Saving the output of our cleaned data"
   ]
  },
  {
   "cell_type": "markdown",
   "id": "d3bbca5e",
   "metadata": {},
   "source": [
    "Creating a csv file of the clean data for futher analysis or visualizations in other tools like SQL, Tableau, Power BI, etc.\n",
    "\n"
   ]
  },
  {
   "cell_type": "code",
   "execution_count": 20,
   "id": "d423e099",
   "metadata": {},
   "outputs": [
    {
     "name": "stdout",
     "output_type": "stream",
     "text": [
      "File saved\n"
     ]
    }
   ],
   "source": [
    "cleaned_data.to_csv(\"Bike_share_cleaned_data.csv\", index=False)\n",
    "print(\"File saved\")"
   ]
  },
  {
   "cell_type": "markdown",
   "id": "4803022f",
   "metadata": {},
   "source": [
    "# ANALYSIS"
   ]
  },
  {
   "cell_type": "markdown",
   "id": "24f032fe",
   "metadata": {},
   "source": [
    "The dataframe is now ready for descriptive analysis that will help us uncover some insights on how the casual riders and members use Cyclistic rideshare differently."
   ]
  },
  {
   "cell_type": "code",
   "execution_count": 21,
   "id": "e6fb2e11",
   "metadata": {},
   "outputs": [
    {
     "name": "stdout",
     "output_type": "stream",
     "text": [
      "<class 'pandas.core.frame.DataFrame'>\n",
      "RangeIndex: 4012458 entries, 0 to 4012457\n",
      "Data columns (total 11 columns):\n",
      " #   Column              Dtype  \n",
      "---  ------              -----  \n",
      " 0   ride_id             object \n",
      " 1   bike type           object \n",
      " 2   start_time          object \n",
      " 3   end_time            object \n",
      " 4   start_station_name  object \n",
      " 5   start_station_id    object \n",
      " 6   end_station_name    object \n",
      " 7   end_station_id      object \n",
      " 8   rider_type          object \n",
      " 9   trip_duration       float64\n",
      " 10  day_of_week         object \n",
      "dtypes: float64(1), object(10)\n",
      "memory usage: 336.7+ MB\n"
     ]
    }
   ],
   "source": [
    "df = pd.read_csv(\"Bike_share_cleaned_data.csv\", dtype={\"start_station_id\":'str' , \"end_station_id\" : 'str'})\n",
    "df.info()"
   ]
  },
  {
   "cell_type": "markdown",
   "id": "87328e77",
   "metadata": {},
   "source": [
    "### Checking number of trips taken by each rider type. Also, this will make sure that the rider type has only two distinct value.\n"
   ]
  },
  {
   "cell_type": "code",
   "execution_count": 22,
   "id": "271b17b2",
   "metadata": {},
   "outputs": [
    {
     "data": {
      "text/html": [
       "<div>\n",
       "<style scoped>\n",
       "    .dataframe tbody tr th:only-of-type {\n",
       "        vertical-align: middle;\n",
       "    }\n",
       "\n",
       "    .dataframe tbody tr th {\n",
       "        vertical-align: top;\n",
       "    }\n",
       "\n",
       "    .dataframe thead th {\n",
       "        text-align: right;\n",
       "    }\n",
       "</style>\n",
       "<table border=\"1\" class=\"dataframe\">\n",
       "  <thead>\n",
       "    <tr style=\"text-align: right;\">\n",
       "      <th></th>\n",
       "      <th>rider_type</th>\n",
       "      <th>Count</th>\n",
       "      <th>Percentage</th>\n",
       "    </tr>\n",
       "  </thead>\n",
       "  <tbody>\n",
       "    <tr>\n",
       "      <th>0</th>\n",
       "      <td>casual</td>\n",
       "      <td>1724118</td>\n",
       "      <td>42.969123</td>\n",
       "    </tr>\n",
       "    <tr>\n",
       "      <th>1</th>\n",
       "      <td>member</td>\n",
       "      <td>2288340</td>\n",
       "      <td>57.030877</td>\n",
       "    </tr>\n",
       "  </tbody>\n",
       "</table>\n",
       "</div>"
      ],
      "text/plain": [
       "  rider_type    Count  Percentage\n",
       "0     casual  1724118   42.969123\n",
       "1     member  2288340   57.030877"
      ]
     },
     "execution_count": 22,
     "metadata": {},
     "output_type": "execute_result"
    }
   ],
   "source": [
    "df1 = df.groupby(\"rider_type\").size().reset_index()\n",
    "df1.rename(columns = {0 : \"Count\"} , inplace = True)\n",
    "df1['Percentage'] =  (df1['Count'] / df1['Count'].sum()) * 100\n",
    "df1\n"
   ]
  },
  {
   "cell_type": "markdown",
   "id": "b30e8a1f",
   "metadata": {},
   "source": [
    "### Total trip minutes by each rider type\n"
   ]
  },
  {
   "cell_type": "code",
   "execution_count": 23,
   "id": "c6a3ade8",
   "metadata": {},
   "outputs": [
    {
     "data": {
      "text/html": [
       "<div>\n",
       "<style scoped>\n",
       "    .dataframe tbody tr th:only-of-type {\n",
       "        vertical-align: middle;\n",
       "    }\n",
       "\n",
       "    .dataframe tbody tr th {\n",
       "        vertical-align: top;\n",
       "    }\n",
       "\n",
       "    .dataframe thead th {\n",
       "        text-align: right;\n",
       "    }\n",
       "</style>\n",
       "<table border=\"1\" class=\"dataframe\">\n",
       "  <thead>\n",
       "    <tr style=\"text-align: right;\">\n",
       "      <th></th>\n",
       "      <th>rider_type</th>\n",
       "      <th>trip_duration</th>\n",
       "      <th>Percentage</th>\n",
       "    </tr>\n",
       "  </thead>\n",
       "  <tbody>\n",
       "    <tr>\n",
       "      <th>0</th>\n",
       "      <td>casual</td>\n",
       "      <td>72216894.0</td>\n",
       "      <td>67.953877</td>\n",
       "    </tr>\n",
       "    <tr>\n",
       "      <th>1</th>\n",
       "      <td>member</td>\n",
       "      <td>34056503.0</td>\n",
       "      <td>32.046123</td>\n",
       "    </tr>\n",
       "  </tbody>\n",
       "</table>\n",
       "</div>"
      ],
      "text/plain": [
       "  rider_type  trip_duration  Percentage\n",
       "0     casual     72216894.0   67.953877\n",
       "1     member     34056503.0   32.046123"
      ]
     },
     "execution_count": 23,
     "metadata": {},
     "output_type": "execute_result"
    }
   ],
   "source": [
    "df2 = round(df.groupby(\"rider_type\")[\"trip_duration\"].sum()).reset_index()\n",
    "df2['Percentage'] =  (df2['trip_duration'] / df2['trip_duration'].sum()) * 100\n",
    "df2"
   ]
  },
  {
   "cell_type": "markdown",
   "id": "e80900d7",
   "metadata": {},
   "source": [
    "### Statistical summary of the Trip Duration(min,max,mean)\n"
   ]
  },
  {
   "cell_type": "code",
   "execution_count": 24,
   "id": "591533b6",
   "metadata": {},
   "outputs": [
    {
     "data": {
      "text/html": [
       "<div>\n",
       "<style scoped>\n",
       "    .dataframe tbody tr th:only-of-type {\n",
       "        vertical-align: middle;\n",
       "    }\n",
       "\n",
       "    .dataframe tbody tr th {\n",
       "        vertical-align: top;\n",
       "    }\n",
       "\n",
       "    .dataframe thead th {\n",
       "        text-align: right;\n",
       "    }\n",
       "</style>\n",
       "<table border=\"1\" class=\"dataframe\">\n",
       "  <thead>\n",
       "    <tr style=\"text-align: right;\">\n",
       "      <th></th>\n",
       "      <th>trip_duration</th>\n",
       "    </tr>\n",
       "  </thead>\n",
       "  <tbody>\n",
       "    <tr>\n",
       "      <th>count</th>\n",
       "      <td>4012458.0</td>\n",
       "    </tr>\n",
       "    <tr>\n",
       "      <th>mean</th>\n",
       "      <td>26.0</td>\n",
       "    </tr>\n",
       "    <tr>\n",
       "      <th>std</th>\n",
       "      <td>252.0</td>\n",
       "    </tr>\n",
       "    <tr>\n",
       "      <th>min</th>\n",
       "      <td>0.0</td>\n",
       "    </tr>\n",
       "    <tr>\n",
       "      <th>25%</th>\n",
       "      <td>8.0</td>\n",
       "    </tr>\n",
       "    <tr>\n",
       "      <th>50%</th>\n",
       "      <td>14.0</td>\n",
       "    </tr>\n",
       "    <tr>\n",
       "      <th>75%</th>\n",
       "      <td>26.0</td>\n",
       "    </tr>\n",
       "    <tr>\n",
       "      <th>max</th>\n",
       "      <td>55944.0</td>\n",
       "    </tr>\n",
       "  </tbody>\n",
       "</table>\n",
       "</div>"
      ],
      "text/plain": [
       "       trip_duration\n",
       "count      4012458.0\n",
       "mean            26.0\n",
       "std            252.0\n",
       "min              0.0\n",
       "25%              8.0\n",
       "50%             14.0\n",
       "75%             26.0\n",
       "max          55944.0"
      ]
     },
     "execution_count": 24,
     "metadata": {},
     "output_type": "execute_result"
    }
   ],
   "source": [
    "round(df.describe())"
   ]
  },
  {
   "cell_type": "markdown",
   "id": "2b59e92e",
   "metadata": {},
   "source": [
    "### No. of rides and avg trip duration by each rider type on each day of week\n"
   ]
  },
  {
   "cell_type": "code",
   "execution_count": 25,
   "id": "436fd876",
   "metadata": {},
   "outputs": [
    {
     "data": {
      "text/html": [
       "<div>\n",
       "<style scoped>\n",
       "    .dataframe tbody tr th:only-of-type {\n",
       "        vertical-align: middle;\n",
       "    }\n",
       "\n",
       "    .dataframe tbody tr th {\n",
       "        vertical-align: top;\n",
       "    }\n",
       "\n",
       "    .dataframe thead th {\n",
       "        text-align: right;\n",
       "    }\n",
       "</style>\n",
       "<table border=\"1\" class=\"dataframe\">\n",
       "  <thead>\n",
       "    <tr style=\"text-align: right;\">\n",
       "      <th></th>\n",
       "      <th>rider_type</th>\n",
       "      <th>day_of_week</th>\n",
       "      <th>avg_trip_duration(mins)</th>\n",
       "      <th>rides_per_day</th>\n",
       "    </tr>\n",
       "  </thead>\n",
       "  <tbody>\n",
       "    <tr>\n",
       "      <th>0</th>\n",
       "      <td>casual</td>\n",
       "      <td>Sunday</td>\n",
       "      <td>47.908500</td>\n",
       "      <td>333045</td>\n",
       "    </tr>\n",
       "    <tr>\n",
       "      <th>1</th>\n",
       "      <td>casual</td>\n",
       "      <td>Saturday</td>\n",
       "      <td>44.369566</td>\n",
       "      <td>398609</td>\n",
       "    </tr>\n",
       "    <tr>\n",
       "      <th>2</th>\n",
       "      <td>casual</td>\n",
       "      <td>Monday</td>\n",
       "      <td>40.503752</td>\n",
       "      <td>185608</td>\n",
       "    </tr>\n",
       "    <tr>\n",
       "      <th>3</th>\n",
       "      <td>casual</td>\n",
       "      <td>Friday</td>\n",
       "      <td>40.149532</td>\n",
       "      <td>250188</td>\n",
       "    </tr>\n",
       "    <tr>\n",
       "      <th>4</th>\n",
       "      <td>casual</td>\n",
       "      <td>Wednesday</td>\n",
       "      <td>38.053716</td>\n",
       "      <td>189812</td>\n",
       "    </tr>\n",
       "    <tr>\n",
       "      <th>5</th>\n",
       "      <td>casual</td>\n",
       "      <td>Thursday</td>\n",
       "      <td>38.033338</td>\n",
       "      <td>187506</td>\n",
       "    </tr>\n",
       "    <tr>\n",
       "      <th>6</th>\n",
       "      <td>casual</td>\n",
       "      <td>Tuesday</td>\n",
       "      <td>37.121923</td>\n",
       "      <td>179350</td>\n",
       "    </tr>\n",
       "    <tr>\n",
       "      <th>7</th>\n",
       "      <td>member</td>\n",
       "      <td>Sunday</td>\n",
       "      <td>16.926238</td>\n",
       "      <td>292001</td>\n",
       "    </tr>\n",
       "    <tr>\n",
       "      <th>8</th>\n",
       "      <td>member</td>\n",
       "      <td>Saturday</td>\n",
       "      <td>16.396188</td>\n",
       "      <td>339167</td>\n",
       "    </tr>\n",
       "    <tr>\n",
       "      <th>9</th>\n",
       "      <td>member</td>\n",
       "      <td>Friday</td>\n",
       "      <td>14.618608</td>\n",
       "      <td>338483</td>\n",
       "    </tr>\n",
       "    <tr>\n",
       "      <th>10</th>\n",
       "      <td>member</td>\n",
       "      <td>Monday</td>\n",
       "      <td>14.282045</td>\n",
       "      <td>305609</td>\n",
       "    </tr>\n",
       "    <tr>\n",
       "      <th>11</th>\n",
       "      <td>member</td>\n",
       "      <td>Wednesday</td>\n",
       "      <td>14.083670</td>\n",
       "      <td>353425</td>\n",
       "    </tr>\n",
       "    <tr>\n",
       "      <th>12</th>\n",
       "      <td>member</td>\n",
       "      <td>Tuesday</td>\n",
       "      <td>14.057477</td>\n",
       "      <td>329740</td>\n",
       "    </tr>\n",
       "    <tr>\n",
       "      <th>13</th>\n",
       "      <td>member</td>\n",
       "      <td>Thursday</td>\n",
       "      <td>14.025651</td>\n",
       "      <td>329915</td>\n",
       "    </tr>\n",
       "  </tbody>\n",
       "</table>\n",
       "</div>"
      ],
      "text/plain": [
       "   rider_type day_of_week  avg_trip_duration(mins)  rides_per_day\n",
       "0      casual      Sunday                47.908500         333045\n",
       "1      casual    Saturday                44.369566         398609\n",
       "2      casual      Monday                40.503752         185608\n",
       "3      casual      Friday                40.149532         250188\n",
       "4      casual   Wednesday                38.053716         189812\n",
       "5      casual    Thursday                38.033338         187506\n",
       "6      casual     Tuesday                37.121923         179350\n",
       "7      member      Sunday                16.926238         292001\n",
       "8      member    Saturday                16.396188         339167\n",
       "9      member      Friday                14.618608         338483\n",
       "10     member      Monday                14.282045         305609\n",
       "11     member   Wednesday                14.083670         353425\n",
       "12     member     Tuesday                14.057477         329740\n",
       "13     member    Thursday                14.025651         329915"
      ]
     },
     "execution_count": 25,
     "metadata": {},
     "output_type": "execute_result"
    }
   ],
   "source": [
    "summary_by_days = df.groupby([\"rider_type\",\"day_of_week\"]).agg({'trip_duration':'mean' , 'ride_id': 'count'}).sort_values(by=\"trip_duration\" , ascending=False)\n",
    "summary_by_days.rename(columns={\"trip_duration\": \"avg_trip_duration(mins)\" , \"ride_id\" : \"rides_per_day\"}, inplace=True)\n",
    "summary_by_days = summary_by_days.reset_index()\n",
    "summary_by_days"
   ]
  },
  {
   "cell_type": "markdown",
   "id": "5d84a53f",
   "metadata": {},
   "source": [
    "# VISUALIZATION\n"
   ]
  },
  {
   "cell_type": "markdown",
   "id": "7395f344",
   "metadata": {},
   "source": [
    "### Arranging days in a defined order"
   ]
  },
  {
   "cell_type": "code",
   "execution_count": 26,
   "id": "1eb948ff",
   "metadata": {},
   "outputs": [],
   "source": [
    "cats = [ 'Monday', 'Tuesday', 'Wednesday', 'Thursday', 'Friday', 'Saturday', 'Sunday']\n",
    "cat_type = CategoricalDtype(categories=cats, ordered=True)\n",
    "summary_by_days['day_of_week']= summary_by_days['day_of_week'].astype(cat_type)"
   ]
  },
  {
   "cell_type": "markdown",
   "id": "bb0779a8",
   "metadata": {},
   "source": [
    "### Average trip duration by rider type"
   ]
  },
  {
   "cell_type": "code",
   "execution_count": 27,
   "id": "2f351bd3",
   "metadata": {},
   "outputs": [
    {
     "name": "stdout",
     "output_type": "stream",
     "text": [
      "Average trip duration is : 27.9 mins\n"
     ]
    },
    {
     "data": {
      "image/png": "[encoded data removed]",
      "text/plain": [
       "<Figure size 432x288 with 1 Axes>"
      ]
     },
     "metadata": {
      "needs_background": "light"
     },
     "output_type": "display_data"
    }
   ],
   "source": [
    "print(f\"Average trip duration is : {round(summary_by_days['avg_trip_duration(mins)'].mean(),2)} mins\")\n",
    "plot = sns.barplot(x=\"rider_type\" , y = \"avg_trip_duration(mins)\", ci = None,  data= summary_by_days)\n",
    "plot.set(title =\"Fig 1: Avg Trip Duration by rider type\")\n",
    "plt.show()"
   ]
  },
  {
   "cell_type": "markdown",
   "id": "b10a6e5c",
   "metadata": {},
   "source": [
    "The average trip duration of member riders is lower than the average trip duration of all riders, while it is exactly the opposite for casual riders, whose average trip duration is higher than the the average trip duration of all trips. This reflects that casual riders usually take the bikes out for a longer duration compared to member riders.\n"
   ]
  },
  {
   "cell_type": "markdown",
   "id": "b2d6a46b",
   "metadata": {},
   "source": [
    "### Average trip duration by each day of week"
   ]
  },
  {
   "cell_type": "code",
   "execution_count": 28,
   "id": "3490fd5a",
   "metadata": {},
   "outputs": [
    {
     "data": {
      "image/png": "[encoded data removed]",
      "text/plain": [
       "<Figure size 576x576 with 1 Axes>"
      ]
     },
     "metadata": {
      "needs_background": "light"
     },
     "output_type": "display_data"
    }
   ],
   "source": [
    "plt.figure(figsize=(8,8))\n",
    "plot = sns.barplot(x=\"day_of_week\" , y = \"avg_trip_duration(mins)\", ci = None,  data= summary_by_days)\n",
    "plot.set(title =\"Fig 2: Avg trip duration by days\" ,xlabel = \"Days\" , ylabel = \"Average time\")\n",
    "plt.show()"
   ]
  },
  {
   "cell_type": "markdown",
   "id": "0f9ca317",
   "metadata": {},
   "source": [
    "From the above graph, it can be seen that riders have taken the bikes for longer duration on weekends followed by Monday."
   ]
  },
  {
   "cell_type": "markdown",
   "id": "37f5f42e",
   "metadata": {},
   "source": [
    "### Number of rides by each day of week"
   ]
  },
  {
   "cell_type": "code",
   "execution_count": 29,
   "id": "a70b45d6",
   "metadata": {},
   "outputs": [
    {
     "data": {
      "image/png": "[encoded data removed]",
      "text/plain": [
       "<Figure size 576x576 with 1 Axes>"
      ]
     },
     "metadata": {
      "needs_background": "light"
     },
     "output_type": "display_data"
    }
   ],
   "source": [
    "plt.figure(figsize=(8,8))\n",
    "plot = sns.barplot(x=\"day_of_week\" , y = \"rides_per_day\", ci= None , data= summary_by_days)\n",
    "plot.set(title =\"Fig 3: Number of rides by day\",xlabel = \"Days\" , ylabel = \"No of rides\")\n",
    "plt.show()"
   ]
  },
  {
   "cell_type": "markdown",
   "id": "30421641",
   "metadata": {},
   "source": [
    "Customers take more number of rides during Friday-Sunday with Saturday being the day with most number of rides. "
   ]
  },
  {
   "cell_type": "markdown",
   "id": "7a6096f2",
   "metadata": {},
   "source": [
    "### Avg trip duration per day of week by each rider type\n"
   ]
  },
  {
   "cell_type": "code",
   "execution_count": 30,
   "id": "ae008052",
   "metadata": {},
   "outputs": [
    {
     "data": {
      "image/png": "[encoded data removed]",
      "text/plain": [
       "<Figure size 576x576 with 1 Axes>"
      ]
     },
     "metadata": {
      "needs_background": "light"
     },
     "output_type": "display_data"
    }
   ],
   "source": [
    "plt.figure(figsize=(8,8))\n",
    "plot = sns.barplot(x=\"day_of_week\" , y = \"avg_trip_duration(mins)\", hue = \"rider_type\", data= summary_by_days)\n",
    "plot.set(title =\"Fig 4: Avg trip duration per day by each rider type\",xlabel = \"Days\" , ylabel = \"Average time\")\n",
    "plt.show()"
   ]
  },
  {
   "cell_type": "markdown",
   "id": "087db840",
   "metadata": {},
   "source": [
    "The average trip duration of a casual rider is more than twice that of a member. Note that this necessarily does not mean that casual riders travel farther distance. It is also interesting to note that weekends not only contribute to more number of trips but also longer trips on average when compared to weekdays.\n",
    "\n"
   ]
  },
  {
   "cell_type": "markdown",
   "id": "bf4f6212",
   "metadata": {},
   "source": [
    "### Number of rides per day of week by each rider type\n"
   ]
  },
  {
   "cell_type": "code",
   "execution_count": 31,
   "id": "6ebf2064",
   "metadata": {},
   "outputs": [
    {
     "data": {
      "image/png": "[encoded data removed]",
      "text/plain": [
       "<Figure size 576x576 with 1 Axes>"
      ]
     },
     "metadata": {
      "needs_background": "light"
     },
     "output_type": "display_data"
    }
   ],
   "source": [
    "plt.figure(figsize=(8,8))\n",
    "plot = sns.barplot(x=\"day_of_week\" , y = \"rides_per_day\", hue = \"rider_type\", data= summary_by_days)\n",
    "plot.set(title =\"Fig 5: Number of rides by day\",xlabel = \"Days\" , ylabel = \"No of rides\")\n",
    "plt.show()"
   ]
  },
  {
   "cell_type": "markdown",
   "id": "3842e4ae",
   "metadata": {},
   "source": [
    "From the graph above, casual riders have purchased a highest number of ride on Saturdays followed by Sundays, while member riders have purchased a highest number of ride on Wednesday followed by Friday and Saturday and the least on Sundays.\n",
    "\n"
   ]
  },
  {
   "cell_type": "markdown",
   "id": "235e3912",
   "metadata": {},
   "source": [
    "### Stacked bar of bike type rides per day\n"
   ]
  },
  {
   "cell_type": "code",
   "execution_count": 32,
   "id": "eedfff69",
   "metadata": {},
   "outputs": [
    {
     "data": {
      "image/png": "[encoded data removed]",
      "text/plain": [
       "<Figure size 576x576 with 1 Axes>"
      ]
     },
     "metadata": {
      "needs_background": "light"
     },
     "output_type": "display_data"
    }
   ],
   "source": [
    "agg_bike_type = df.groupby(['rider_type', 'bike type'])['bike type'].count().unstack()\n",
    "agg_bike_type.plot(kind = 'bar', stacked = True , figsize= (8,8))\n",
    "plt.ylabel(\"No. of rides\")\n",
    "plt.title(\"Fig 6: Rides by rider type\")\n",
    "plt.show()"
   ]
  },
  {
   "cell_type": "markdown",
   "id": "843d94b5",
   "metadata": {},
   "source": [
    "From the above graph, what is noticable is that docked bikes are in most demand and equally used by both member riders as well as casual riders. However, the ratio of bike type to the rider type appears to be almost same.\n",
    "\n",
    "Note: Data is not available on the quantity of fleet across each type of bikes.\n"
   ]
  },
  {
   "cell_type": "markdown",
   "id": "1a578191",
   "metadata": {},
   "source": [
    "### Number of rides by each month\n"
   ]
  },
  {
   "cell_type": "code",
   "execution_count": 33,
   "id": "e8b18d96",
   "metadata": {},
   "outputs": [
    {
     "data": {
      "image/png": "[encoded data removed]",
      "text/plain": [
       "<Figure size 576x576 with 1 Axes>"
      ]
     },
     "metadata": {
      "needs_background": "light"
     },
     "output_type": "display_data"
    }
   ],
   "source": [
    "df['start_time'] = pd.to_datetime(df['start_time'], errors='coerce')\n",
    "monthly_rides = df.groupby([df['start_time'].dt.year, df['start_time'].dt.month]).agg({'rider_type':'count'})\n",
    "monthly_rides.plot(kind= 'bar' , figsize= (8,8))\n",
    "plt.xlabel(\"Year,Month\")\n",
    "plt.ylabel(\"No. of rides\")\n",
    "plt.title(\"Fig 7: Number of rides by month\")\n",
    "plt.show()"
   ]
  },
  {
   "cell_type": "markdown",
   "id": "282a040b",
   "metadata": {},
   "source": [
    "From the above graph, it appears that a very high number of purchasing was done during the July-Nov 2020 period. Dec 2020 - Feb 2021 shows a steep fall in purchasing and rises again staring from Mar 2021. This could be attributed to an external factor (eg. cold weather, major quality issue) that might have hindered with customer needs or could be due to the pandemic or work from home.\n",
    "\n",
    "\n"
   ]
  },
  {
   "cell_type": "markdown",
   "id": "bc84021c",
   "metadata": {},
   "source": [
    "### Key Takeaways\n"
   ]
  },
  {
   "cell_type": "markdown",
   "id": "eea8db5b",
   "metadata": {},
   "source": [
    "* **Casual riders** made **43%** of total trips contributing to **68%** of total trip duration between Jul'20 - Jun'21. **Member riders** make up **57%** of total trips contributing to **32%** of total trip duration between Jul'20 - Jun'21\n",
    "\n",
    "\n",
    "* Usage (based on trip duration) of bikes by casual riders is more than **twice** that of member riders.\n",
    "\n",
    "\n",
    "* Casual customers use bikeshare services more during weekends, while members use them consistently over the entire week.\n",
    "\n",
    "\n",
    "* Average trip duration of casual riders is more than **twice** that of member rider over any given day of the week cumulatively.\n",
    "\n",
    "\n",
    "* Preference of bike type was almost same between the rider type considering the total riders. However, **docked bikes** is most popular among both rider type.\n",
    "\n",
    "\n",
    "\n",
    "\n",
    "\n",
    "\n"
   ]
  },
  {
   "cell_type": "markdown",
   "id": "3aa8878d",
   "metadata": {},
   "source": [
    "### Recommendations"
   ]
  },
  {
   "cell_type": "markdown",
   "id": "e987974f",
   "metadata": {},
   "source": [
    "* Provide attractive promotions for casual riders on weekdays so that casual members use the bikeshare services more uniformly across the entire week.\n",
    "\n",
    "\n",
    "* Offer discounted membership fee for renewals after the first year. It might nudge casual riders to take up membership.\n",
    "\n"
   ]
  }
 ],
 "metadata": {
  "kernelspec": {
   "display_name": "Python 3 (ipykernel)",
   "language": "python",
   "name": "python3"
  },
  "language_info": {
   "codemirror_mode": {
    "name": "ipython",
    "version": 3
   },
   "file_extension": ".py",
   "mimetype": "text/x-python",
   "name": "python",
   "nbconvert_exporter": "python",
   "pygments_lexer": "ipython3",
   "version": "3.9.6"
  }
 },
 "nbformat": 4,
 "nbformat_minor": 5
}
